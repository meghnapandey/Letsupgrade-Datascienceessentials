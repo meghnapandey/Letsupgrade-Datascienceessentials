{
 "cells": [
  {
   "cell_type": "markdown",
   "metadata": {},
   "source": [
    "# DATA SCIENCE ESSENTIAL \n",
    "DAY 1 ASSIGNMENT 1\n"
   ]
  },
  {
   "cell_type": "raw",
   "metadata": {},
   "source": [
    "QUESTION 1 :"
   ]
  },
  {
   "cell_type": "raw",
   "metadata": {},
   "source": [
    "Given the following jumbled word, OBANWRI guess the correct English word.\n",
    "\n",
    "A. RANIBOW\n",
    "B. RAINBOW\n",
    "C. BOWRANI\n",
    "D. ROBWANI\n",
    "\n",
    "Ans: A.RAINBOW"
   ]
  },
  {
   "cell_type": "raw",
   "metadata": {},
   "source": [
    "QUESTION 2: Write a program which prints “LETS UPGRADE”. (Please note that you have to\n",
    "print in ALL CAPS as given)"
   ]
  },
  {
   "cell_type": "code",
   "execution_count": 2,
   "metadata": {},
   "outputs": [
    {
     "name": "stdout",
     "output_type": "stream",
     "text": [
      "LETS UPGRADE\n"
     ]
    }
   ],
   "source": [
    "print(\"LETS UPGRADE\")"
   ]
  },
  {
   "cell_type": "raw",
   "metadata": {},
   "source": [
    "QUESTION 3 : Write a program that takes cost price and selling price as input and displays whether the transaction is a Profit or a Loss or Neither."
   ]
  },
  {
   "cell_type": "code",
   "execution_count": 4,
   "metadata": {},
   "outputs": [
    {
     "name": "stdout",
     "output_type": "stream",
     "text": [
      "20\n",
      "30\n",
      "Profit\n"
     ]
    }
   ],
   "source": [
    "cp = int(input())\n",
    "sp = int(input())\n",
    "\n",
    "if((cp - sp)> 0):\n",
    "    print(\"Loss\")\n",
    "elif((cp - sp)<0):\n",
    "    print(\"Profit\")\n",
    "else:\n",
    "    print(\"Neither\")"
   ]
  },
  {
   "cell_type": "raw",
   "metadata": {},
   "source": [
    "QUESTION 4: Write a program that takes an amount in Euros as input. You need to find its equivalent in\n",
    "Rupees and display it. Assume 1 Euro equals Rs. 80."
   ]
  },
  {
   "cell_type": "code",
   "execution_count": 5,
   "metadata": {},
   "outputs": [
    {
     "name": "stdout",
     "output_type": "stream",
     "text": [
      "20\n",
      "1600\n"
     ]
    }
   ],
   "source": [
    "euro = int(input())\n",
    "rupees = euro * 80\n",
    "print(rupees)"
   ]
  },
  {
   "cell_type": "code",
   "execution_count": null,
   "metadata": {},
   "outputs": [],
   "source": []
  }
 ],
 "metadata": {
  "kernelspec": {
   "display_name": "Python 3",
   "language": "python",
   "name": "python3"
  },
  "language_info": {
   "codemirror_mode": {
    "name": "ipython",
    "version": 3
   },
   "file_extension": ".py",
   "mimetype": "text/x-python",
   "name": "python",
   "nbconvert_exporter": "python",
   "pygments_lexer": "ipython3",
   "version": "3.8.3"
  }
 },
 "nbformat": 4,
 "nbformat_minor": 4
}
